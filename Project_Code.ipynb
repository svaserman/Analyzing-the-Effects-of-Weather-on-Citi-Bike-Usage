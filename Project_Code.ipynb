{
  "cells": [
    {
      "cell_type": "markdown",
      "id": "df3ed97f",
      "metadata": {
        "id": "df3ed97f"
      },
      "source": [
        "# Program Start"
      ]
    },
    {
      "cell_type": "code",
      "execution_count": null,
      "id": "12d3335f",
      "metadata": {
        "id": "12d3335f"
      },
      "outputs": [],
      "source": [
        "%matplotlib inline\n",
        "import numpy as np\n",
        "import pandas as pd\n",
        "import matplotlib.pyplot as plt\n",
        "import seaborn as sns"
      ]
    },
    {
      "cell_type": "markdown",
      "id": "fc242d67",
      "metadata": {
        "id": "fc242d67"
      },
      "source": [
        "## CitiBike Data"
      ]
    },
    {
      "cell_type": "code",
      "execution_count": null,
      "id": "ae7e7e98",
      "metadata": {
        "id": "ae7e7e98"
      },
      "outputs": [],
      "source": [
        "#Merging CitiBike data from January and July\n",
        "df = pd.concat(map(pd.read_csv, ['2014-01 - Citi Bike trip data.csv', '2014-07 - Citi Bike trip data.csv']), ignore_index=True)"
      ]
    },
    {
      "cell_type": "code",
      "execution_count": null,
      "id": "7bef0d96",
      "metadata": {
        "id": "7bef0d96",
        "outputId": "0ecb6470-c15a-4ba1-f47c-87d55c3cb950"
      },
      "outputs": [
        {
          "data": {
            "text/html": [
              "<div>\n",
              "<style scoped>\n",
              "    .dataframe tbody tr th:only-of-type {\n",
              "        vertical-align: middle;\n",
              "    }\n",
              "\n",
              "    .dataframe tbody tr th {\n",
              "        vertical-align: top;\n",
              "    }\n",
              "\n",
              "    .dataframe thead th {\n",
              "        text-align: right;\n",
              "    }\n",
              "</style>\n",
              "<table border=\"1\" class=\"dataframe\">\n",
              "  <thead>\n",
              "    <tr style=\"text-align: right;\">\n",
              "      <th></th>\n",
              "      <th>tripduration</th>\n",
              "      <th>starttime</th>\n",
              "      <th>date</th>\n",
              "      <th>start station id</th>\n",
              "      <th>start station name</th>\n",
              "      <th>start station latitude</th>\n",
              "      <th>start station longitude</th>\n",
              "      <th>end station id</th>\n",
              "      <th>end station name</th>\n",
              "      <th>end station latitude</th>\n",
              "      <th>end station longitude</th>\n",
              "      <th>bikeid</th>\n",
              "      <th>usertype</th>\n",
              "      <th>birth year</th>\n",
              "      <th>gender</th>\n",
              "    </tr>\n",
              "  </thead>\n",
              "  <tbody>\n",
              "    <tr>\n",
              "      <th>0</th>\n",
              "      <td>471</td>\n",
              "      <td>1/1/14 0:00</td>\n",
              "      <td>1/1/14</td>\n",
              "      <td>2009</td>\n",
              "      <td>Catherine St &amp; Monroe St</td>\n",
              "      <td>40.711174</td>\n",
              "      <td>-73.996826</td>\n",
              "      <td>263</td>\n",
              "      <td>Elizabeth St &amp; Hester St</td>\n",
              "      <td>40.717290</td>\n",
              "      <td>-73.996375</td>\n",
              "      <td>16379</td>\n",
              "      <td>Subscriber</td>\n",
              "      <td>1986</td>\n",
              "      <td>1</td>\n",
              "    </tr>\n",
              "    <tr>\n",
              "      <th>1</th>\n",
              "      <td>1494</td>\n",
              "      <td>1/1/14 0:00</td>\n",
              "      <td>1/1/14</td>\n",
              "      <td>536</td>\n",
              "      <td>1 Ave &amp; E 30 St</td>\n",
              "      <td>40.741444</td>\n",
              "      <td>-73.975361</td>\n",
              "      <td>259</td>\n",
              "      <td>South St &amp; Whitehall St</td>\n",
              "      <td>40.701221</td>\n",
              "      <td>-74.012342</td>\n",
              "      <td>15611</td>\n",
              "      <td>Subscriber</td>\n",
              "      <td>1963</td>\n",
              "      <td>1</td>\n",
              "    </tr>\n",
              "    <tr>\n",
              "      <th>2</th>\n",
              "      <td>464</td>\n",
              "      <td>1/1/14 0:03</td>\n",
              "      <td>1/1/14</td>\n",
              "      <td>228</td>\n",
              "      <td>E 48 St &amp; 3 Ave</td>\n",
              "      <td>40.754601</td>\n",
              "      <td>-73.971879</td>\n",
              "      <td>2022</td>\n",
              "      <td>E 59 St &amp; Sutton Pl</td>\n",
              "      <td>40.758491</td>\n",
              "      <td>-73.959206</td>\n",
              "      <td>16613</td>\n",
              "      <td>Subscriber</td>\n",
              "      <td>1991</td>\n",
              "      <td>1</td>\n",
              "    </tr>\n",
              "    <tr>\n",
              "      <th>3</th>\n",
              "      <td>373</td>\n",
              "      <td>1/1/14 0:05</td>\n",
              "      <td>1/1/14</td>\n",
              "      <td>519</td>\n",
              "      <td>Pershing Square N</td>\n",
              "      <td>40.751884</td>\n",
              "      <td>-73.977702</td>\n",
              "      <td>526</td>\n",
              "      <td>E 33 St &amp; 5 Ave</td>\n",
              "      <td>40.747659</td>\n",
              "      <td>-73.984907</td>\n",
              "      <td>15938</td>\n",
              "      <td>Subscriber</td>\n",
              "      <td>1989</td>\n",
              "      <td>1</td>\n",
              "    </tr>\n",
              "    <tr>\n",
              "      <th>4</th>\n",
              "      <td>660</td>\n",
              "      <td>1/1/14 0:05</td>\n",
              "      <td>1/1/14</td>\n",
              "      <td>83</td>\n",
              "      <td>Atlantic Ave &amp; Fort Greene Pl</td>\n",
              "      <td>40.683826</td>\n",
              "      <td>-73.976323</td>\n",
              "      <td>436</td>\n",
              "      <td>Hancock St &amp; Bedford Ave</td>\n",
              "      <td>40.682166</td>\n",
              "      <td>-73.953990</td>\n",
              "      <td>19830</td>\n",
              "      <td>Subscriber</td>\n",
              "      <td>1990</td>\n",
              "      <td>1</td>\n",
              "    </tr>\n",
              "  </tbody>\n",
              "</table>\n",
              "</div>"
            ],
            "text/plain": [
              "   tripduration    starttime    date  start station id  \\\n",
              "0           471  1/1/14 0:00  1/1/14              2009   \n",
              "1          1494  1/1/14 0:00  1/1/14               536   \n",
              "2           464  1/1/14 0:03  1/1/14               228   \n",
              "3           373  1/1/14 0:05  1/1/14               519   \n",
              "4           660  1/1/14 0:05  1/1/14                83   \n",
              "\n",
              "              start station name  start station latitude  \\\n",
              "0       Catherine St & Monroe St               40.711174   \n",
              "1                1 Ave & E 30 St               40.741444   \n",
              "2                E 48 St & 3 Ave               40.754601   \n",
              "3              Pershing Square N               40.751884   \n",
              "4  Atlantic Ave & Fort Greene Pl               40.683826   \n",
              "\n",
              "   start station longitude  end station id          end station name  \\\n",
              "0               -73.996826             263  Elizabeth St & Hester St   \n",
              "1               -73.975361             259   South St & Whitehall St   \n",
              "2               -73.971879            2022       E 59 St & Sutton Pl   \n",
              "3               -73.977702             526           E 33 St & 5 Ave   \n",
              "4               -73.976323             436  Hancock St & Bedford Ave   \n",
              "\n",
              "   end station latitude  end station longitude  bikeid    usertype birth year  \\\n",
              "0             40.717290             -73.996375   16379  Subscriber       1986   \n",
              "1             40.701221             -74.012342   15611  Subscriber       1963   \n",
              "2             40.758491             -73.959206   16613  Subscriber       1991   \n",
              "3             40.747659             -73.984907   15938  Subscriber       1989   \n",
              "4             40.682166             -73.953990   19830  Subscriber       1990   \n",
              "\n",
              "   gender  \n",
              "0       1  \n",
              "1       1  \n",
              "2       1  \n",
              "3       1  \n",
              "4       1  "
            ]
          },
          "execution_count": 244,
          "metadata": {},
          "output_type": "execute_result"
        }
      ],
      "source": [
        "df.head()"
      ]
    },
    {
      "cell_type": "code",
      "execution_count": null,
      "id": "79dae783",
      "metadata": {
        "id": "79dae783",
        "outputId": "d849908c-0626-4537-ce22-c4d1707838dc"
      },
      "outputs": [
        {
          "data": {
            "text/plain": [
              "tripduration                 int64\n",
              "starttime                   object\n",
              "date                        object\n",
              "start station id             int64\n",
              "start station name          object\n",
              "start station latitude     float64\n",
              "start station longitude    float64\n",
              "end station id               int64\n",
              "end station name            object\n",
              "end station latitude       float64\n",
              "end station longitude      float64\n",
              "bikeid                       int64\n",
              "usertype                    object\n",
              "birth year                  object\n",
              "gender                       int64\n",
              "dtype: object"
            ]
          },
          "execution_count": 245,
          "metadata": {},
          "output_type": "execute_result"
        }
      ],
      "source": [
        "#viewing datatypes\n",
        "df.dtypes"
      ]
    },
    {
      "cell_type": "code",
      "execution_count": null,
      "id": "cf3c0af1",
      "metadata": {
        "id": "cf3c0af1"
      },
      "outputs": [],
      "source": [
        "#changing types\n",
        "df['date'] = pd.to_datetime(df['date'])\n",
        "df[\"birth year\"] = pd.to_numeric(df[\"birth year\"], errors='coerce')"
      ]
    },
    {
      "cell_type": "code",
      "execution_count": null,
      "id": "e10b1e22",
      "metadata": {
        "id": "e10b1e22",
        "outputId": "53d88cec-8de4-44a7-b8f9-1ce7020b0e20"
      },
      "outputs": [
        {
          "data": {
            "text/plain": [
              "tripduration                        int64\n",
              "starttime                          object\n",
              "date                       datetime64[ns]\n",
              "start station id                    int64\n",
              "start station name                 object\n",
              "start station latitude            float64\n",
              "start station longitude           float64\n",
              "end station id                      int64\n",
              "end station name                   object\n",
              "end station latitude              float64\n",
              "end station longitude             float64\n",
              "bikeid                              int64\n",
              "usertype                           object\n",
              "birth year                        float64\n",
              "gender                              int64\n",
              "dtype: object"
            ]
          },
          "execution_count": 247,
          "metadata": {},
          "output_type": "execute_result"
        }
      ],
      "source": [
        "df.dtypes"
      ]
    },
    {
      "cell_type": "code",
      "execution_count": null,
      "id": "92b4afc9",
      "metadata": {
        "id": "92b4afc9",
        "outputId": "b5d8995c-9847-4ee7-db25-a8bcce288bc8"
      },
      "outputs": [
        {
          "data": {
            "text/plain": [
              "tripduration                    0\n",
              "starttime                       0\n",
              "date                            0\n",
              "start station id                0\n",
              "start station name              0\n",
              "start station latitude          0\n",
              "start station longitude         0\n",
              "end station id                  0\n",
              "end station name                0\n",
              "end station latitude            0\n",
              "end station longitude           0\n",
              "bikeid                          0\n",
              "usertype                        0\n",
              "birth year                 126379\n",
              "gender                          0\n",
              "dtype: int64"
            ]
          },
          "execution_count": 248,
          "metadata": {},
          "output_type": "execute_result"
        }
      ],
      "source": [
        "#checking for null values\n",
        "df.isnull().sum()"
      ]
    },
    {
      "cell_type": "code",
      "execution_count": null,
      "id": "46e2e7a0",
      "metadata": {
        "id": "46e2e7a0"
      },
      "outputs": [],
      "source": [
        "#filling birth year NaN values with mean birth year\n",
        "df['birth year'].fillna(df['birth year'].mean(), inplace = True)"
      ]
    },
    {
      "cell_type": "code",
      "execution_count": null,
      "id": "574317f6",
      "metadata": {
        "id": "574317f6",
        "outputId": "04d856cf-f8b1-4dc8-e360-3f0a84e23412"
      },
      "outputs": [
        {
          "data": {
            "text/plain": [
              "tripduration               False\n",
              "starttime                  False\n",
              "date                       False\n",
              "start station id           False\n",
              "start station name         False\n",
              "start station latitude     False\n",
              "start station longitude    False\n",
              "end station id             False\n",
              "end station name           False\n",
              "end station latitude       False\n",
              "end station longitude      False\n",
              "bikeid                     False\n",
              "usertype                   False\n",
              "birth year                 False\n",
              "gender                     False\n",
              "dtype: bool"
            ]
          },
          "execution_count": 250,
          "metadata": {},
          "output_type": "execute_result"
        }
      ],
      "source": [
        "#checking to Nan values\n",
        "df.isnull().any()"
      ]
    },
    {
      "cell_type": "code",
      "execution_count": null,
      "id": "df151038",
      "metadata": {
        "id": "df151038"
      },
      "outputs": [],
      "source": [
        "#dropping columns with uncesseasry information\n",
        "df.drop(['bikeid', 'starttime', 'start station id', 'start station name','start station longitude', 'end station id','start station latitude', 'end station name', 'end station latitude', 'end station longitude'], axis= 1, inplace=True)"
      ]
    },
    {
      "cell_type": "code",
      "execution_count": null,
      "id": "39b21bf4",
      "metadata": {
        "id": "39b21bf4"
      },
      "outputs": [],
      "source": [
        "#adding columns for trip duration in minutes and user's age\n",
        "df['tripduration_minutes'] =  df['tripduration'] / 60\n",
        "df['age'] =  2014 - df['birth year']"
      ]
    },
    {
      "cell_type": "code",
      "execution_count": null,
      "id": "5d3dda8b",
      "metadata": {
        "id": "5d3dda8b",
        "outputId": "70aa1aa0-47fe-46f2-9f9d-0fb129790ae7"
      },
      "outputs": [
        {
          "data": {
            "text/html": [
              "<div>\n",
              "<style scoped>\n",
              "    .dataframe tbody tr th:only-of-type {\n",
              "        vertical-align: middle;\n",
              "    }\n",
              "\n",
              "    .dataframe tbody tr th {\n",
              "        vertical-align: top;\n",
              "    }\n",
              "\n",
              "    .dataframe thead th {\n",
              "        text-align: right;\n",
              "    }\n",
              "</style>\n",
              "<table border=\"1\" class=\"dataframe\">\n",
              "  <thead>\n",
              "    <tr style=\"text-align: right;\">\n",
              "      <th></th>\n",
              "      <th>tripduration</th>\n",
              "      <th>date</th>\n",
              "      <th>usertype</th>\n",
              "      <th>birth year</th>\n",
              "      <th>gender</th>\n",
              "      <th>tripduration_minutes</th>\n",
              "      <th>age</th>\n",
              "    </tr>\n",
              "  </thead>\n",
              "  <tbody>\n",
              "    <tr>\n",
              "      <th>0</th>\n",
              "      <td>471</td>\n",
              "      <td>2014-01-01</td>\n",
              "      <td>Subscriber</td>\n",
              "      <td>1986.0</td>\n",
              "      <td>1</td>\n",
              "      <td>7.850000</td>\n",
              "      <td>28.0</td>\n",
              "    </tr>\n",
              "    <tr>\n",
              "      <th>1</th>\n",
              "      <td>1494</td>\n",
              "      <td>2014-01-01</td>\n",
              "      <td>Subscriber</td>\n",
              "      <td>1963.0</td>\n",
              "      <td>1</td>\n",
              "      <td>24.900000</td>\n",
              "      <td>51.0</td>\n",
              "    </tr>\n",
              "    <tr>\n",
              "      <th>2</th>\n",
              "      <td>464</td>\n",
              "      <td>2014-01-01</td>\n",
              "      <td>Subscriber</td>\n",
              "      <td>1991.0</td>\n",
              "      <td>1</td>\n",
              "      <td>7.733333</td>\n",
              "      <td>23.0</td>\n",
              "    </tr>\n",
              "    <tr>\n",
              "      <th>3</th>\n",
              "      <td>373</td>\n",
              "      <td>2014-01-01</td>\n",
              "      <td>Subscriber</td>\n",
              "      <td>1989.0</td>\n",
              "      <td>1</td>\n",
              "      <td>6.216667</td>\n",
              "      <td>25.0</td>\n",
              "    </tr>\n",
              "    <tr>\n",
              "      <th>4</th>\n",
              "      <td>660</td>\n",
              "      <td>2014-01-01</td>\n",
              "      <td>Subscriber</td>\n",
              "      <td>1990.0</td>\n",
              "      <td>1</td>\n",
              "      <td>11.000000</td>\n",
              "      <td>24.0</td>\n",
              "    </tr>\n",
              "  </tbody>\n",
              "</table>\n",
              "</div>"
            ],
            "text/plain": [
              "   tripduration       date    usertype  birth year  gender  \\\n",
              "0           471 2014-01-01  Subscriber      1986.0       1   \n",
              "1          1494 2014-01-01  Subscriber      1963.0       1   \n",
              "2           464 2014-01-01  Subscriber      1991.0       1   \n",
              "3           373 2014-01-01  Subscriber      1989.0       1   \n",
              "4           660 2014-01-01  Subscriber      1990.0       1   \n",
              "\n",
              "   tripduration_minutes   age  \n",
              "0              7.850000  28.0  \n",
              "1             24.900000  51.0  \n",
              "2              7.733333  23.0  \n",
              "3              6.216667  25.0  \n",
              "4             11.000000  24.0  "
            ]
          },
          "execution_count": 253,
          "metadata": {},
          "output_type": "execute_result"
        }
      ],
      "source": [
        "#final product\n",
        "df.head()"
      ]
    },
    {
      "cell_type": "markdown",
      "id": "08613ea5",
      "metadata": {
        "id": "08613ea5"
      },
      "source": [
        "## Weather Data"
      ]
    },
    {
      "cell_type": "code",
      "execution_count": null,
      "id": "96e2a31b",
      "metadata": {
        "id": "96e2a31b"
      },
      "outputs": [],
      "source": [
        "#importing data, naming df weather\n",
        "weather = pd.read_csv('weather 01 and 07 .csv')"
      ]
    },
    {
      "cell_type": "code",
      "execution_count": null,
      "id": "07c7a4c4",
      "metadata": {
        "id": "07c7a4c4",
        "outputId": "32196f48-453c-4c64-a1c9-ab90c2f0ffd0"
      },
      "outputs": [
        {
          "data": {
            "text/plain": [
              "Index(['STATION', 'NAME', 'DATE', 'AWND', 'PGTM', 'PRCP', 'SNOW', 'SNWD',\n",
              "       'TAVG', 'TMAX', 'TMIN', 'TSUN', 'WDF2', 'WDF5', 'WSF2', 'WSF5', 'WT01',\n",
              "       'WT02', 'WT03', 'WT04', 'WT05', 'WT06', 'WT08'],\n",
              "      dtype='object')"
            ]
          },
          "execution_count": 255,
          "metadata": {},
          "output_type": "execute_result"
        }
      ],
      "source": [
        "#viewing columns\n",
        "weather.columns"
      ]
    },
    {
      "cell_type": "code",
      "execution_count": null,
      "id": "5162fe2f",
      "metadata": {
        "id": "5162fe2f"
      },
      "outputs": [],
      "source": [
        "#dropping columns with insuffiecent or uncesseasry information\n",
        "weather.drop(['STATION', 'NAME','WT02', 'WT03', 'WT04', 'WT05','WT06','WT08', 'TSUN', 'PGTM', 'WDF2', 'WDF5', 'WSF2', 'WSF5' ], axis=1, inplace=True)"
      ]
    },
    {
      "cell_type": "code",
      "execution_count": null,
      "id": "89de02b2",
      "metadata": {
        "id": "89de02b2",
        "outputId": "ff560293-6a02-4b6c-aa38-8b1606e43609"
      },
      "outputs": [
        {
          "data": {
            "text/html": [
              "<div>\n",
              "<style scoped>\n",
              "    .dataframe tbody tr th:only-of-type {\n",
              "        vertical-align: middle;\n",
              "    }\n",
              "\n",
              "    .dataframe tbody tr th {\n",
              "        vertical-align: top;\n",
              "    }\n",
              "\n",
              "    .dataframe thead th {\n",
              "        text-align: right;\n",
              "    }\n",
              "</style>\n",
              "<table border=\"1\" class=\"dataframe\">\n",
              "  <thead>\n",
              "    <tr style=\"text-align: right;\">\n",
              "      <th></th>\n",
              "      <th>DATE</th>\n",
              "      <th>AWND</th>\n",
              "      <th>PRCP</th>\n",
              "      <th>SNOW</th>\n",
              "      <th>SNWD</th>\n",
              "      <th>TAVG</th>\n",
              "      <th>TMAX</th>\n",
              "      <th>TMIN</th>\n",
              "      <th>WT01</th>\n",
              "    </tr>\n",
              "  </thead>\n",
              "  <tbody>\n",
              "    <tr>\n",
              "      <th>0</th>\n",
              "      <td>1/1/14</td>\n",
              "      <td>5.59</td>\n",
              "      <td>0.00</td>\n",
              "      <td>0.0</td>\n",
              "      <td>0.0</td>\n",
              "      <td>NaN</td>\n",
              "      <td>33</td>\n",
              "      <td>24</td>\n",
              "      <td>NaN</td>\n",
              "    </tr>\n",
              "    <tr>\n",
              "      <th>1</th>\n",
              "      <td>1/2/14</td>\n",
              "      <td>12.30</td>\n",
              "      <td>0.33</td>\n",
              "      <td>3.1</td>\n",
              "      <td>0.0</td>\n",
              "      <td>NaN</td>\n",
              "      <td>33</td>\n",
              "      <td>18</td>\n",
              "      <td>NaN</td>\n",
              "    </tr>\n",
              "    <tr>\n",
              "      <th>2</th>\n",
              "      <td>1/3/14</td>\n",
              "      <td>10.51</td>\n",
              "      <td>0.29</td>\n",
              "      <td>3.3</td>\n",
              "      <td>5.9</td>\n",
              "      <td>NaN</td>\n",
              "      <td>18</td>\n",
              "      <td>9</td>\n",
              "      <td>1.0</td>\n",
              "    </tr>\n",
              "    <tr>\n",
              "      <th>3</th>\n",
              "      <td>1/4/14</td>\n",
              "      <td>4.92</td>\n",
              "      <td>0.00</td>\n",
              "      <td>0.0</td>\n",
              "      <td>5.9</td>\n",
              "      <td>NaN</td>\n",
              "      <td>29</td>\n",
              "      <td>8</td>\n",
              "      <td>NaN</td>\n",
              "    </tr>\n",
              "    <tr>\n",
              "      <th>4</th>\n",
              "      <td>1/5/14</td>\n",
              "      <td>3.80</td>\n",
              "      <td>0.14</td>\n",
              "      <td>0.0</td>\n",
              "      <td>3.9</td>\n",
              "      <td>NaN</td>\n",
              "      <td>40</td>\n",
              "      <td>27</td>\n",
              "      <td>NaN</td>\n",
              "    </tr>\n",
              "  </tbody>\n",
              "</table>\n",
              "</div>"
            ],
            "text/plain": [
              "     DATE   AWND  PRCP  SNOW  SNWD  TAVG  TMAX  TMIN  WT01\n",
              "0  1/1/14   5.59  0.00   0.0   0.0   NaN    33    24   NaN\n",
              "1  1/2/14  12.30  0.33   3.1   0.0   NaN    33    18   NaN\n",
              "2  1/3/14  10.51  0.29   3.3   5.9   NaN    18     9   1.0\n",
              "3  1/4/14   4.92  0.00   0.0   5.9   NaN    29     8   NaN\n",
              "4  1/5/14   3.80  0.14   0.0   3.9   NaN    40    27   NaN"
            ]
          },
          "execution_count": 257,
          "metadata": {},
          "output_type": "execute_result"
        }
      ],
      "source": [
        "weather.head()"
      ]
    },
    {
      "cell_type": "code",
      "execution_count": null,
      "id": "0f03081e",
      "metadata": {
        "id": "0f03081e"
      },
      "outputs": [],
      "source": [
        "#Calculating Average Temperature\n",
        "weather['TAVG'] = (weather['TMAX'] + weather['TMIN']) / 2"
      ]
    },
    {
      "cell_type": "code",
      "execution_count": null,
      "id": "7ae86940",
      "metadata": {
        "id": "7ae86940"
      },
      "outputs": [],
      "source": [
        "#renaming columns for simpler reading\n",
        "weather.rename(columns={'DATE': 'date','AWND':'AVG WIND SPEED','SNWD': 'SNOW DEPTH','WT01': 'FOG'}, inplace = True) "
      ]
    },
    {
      "cell_type": "code",
      "execution_count": null,
      "id": "f58abd56",
      "metadata": {
        "scrolled": true,
        "id": "f58abd56",
        "outputId": "7315a98d-951d-447b-e64c-969153eb83a8"
      },
      "outputs": [
        {
          "data": {
            "text/html": [
              "<div>\n",
              "<style scoped>\n",
              "    .dataframe tbody tr th:only-of-type {\n",
              "        vertical-align: middle;\n",
              "    }\n",
              "\n",
              "    .dataframe tbody tr th {\n",
              "        vertical-align: top;\n",
              "    }\n",
              "\n",
              "    .dataframe thead th {\n",
              "        text-align: right;\n",
              "    }\n",
              "</style>\n",
              "<table border=\"1\" class=\"dataframe\">\n",
              "  <thead>\n",
              "    <tr style=\"text-align: right;\">\n",
              "      <th></th>\n",
              "      <th>date</th>\n",
              "      <th>AVG WIND SPEED</th>\n",
              "      <th>PRCP</th>\n",
              "      <th>SNOW</th>\n",
              "      <th>SNOW DEPTH</th>\n",
              "      <th>TAVG</th>\n",
              "      <th>TMAX</th>\n",
              "      <th>TMIN</th>\n",
              "      <th>FOG</th>\n",
              "    </tr>\n",
              "  </thead>\n",
              "  <tbody>\n",
              "    <tr>\n",
              "      <th>0</th>\n",
              "      <td>1/1/14</td>\n",
              "      <td>5.59</td>\n",
              "      <td>0.00</td>\n",
              "      <td>0.0</td>\n",
              "      <td>0.0</td>\n",
              "      <td>28.5</td>\n",
              "      <td>33</td>\n",
              "      <td>24</td>\n",
              "      <td>NaN</td>\n",
              "    </tr>\n",
              "    <tr>\n",
              "      <th>1</th>\n",
              "      <td>1/2/14</td>\n",
              "      <td>12.30</td>\n",
              "      <td>0.33</td>\n",
              "      <td>3.1</td>\n",
              "      <td>0.0</td>\n",
              "      <td>25.5</td>\n",
              "      <td>33</td>\n",
              "      <td>18</td>\n",
              "      <td>NaN</td>\n",
              "    </tr>\n",
              "  </tbody>\n",
              "</table>\n",
              "</div>"
            ],
            "text/plain": [
              "     date  AVG WIND SPEED  PRCP  SNOW  SNOW DEPTH  TAVG  TMAX  TMIN  FOG\n",
              "0  1/1/14            5.59  0.00   0.0         0.0  28.5    33    24  NaN\n",
              "1  1/2/14           12.30  0.33   3.1         0.0  25.5    33    18  NaN"
            ]
          },
          "execution_count": 260,
          "metadata": {},
          "output_type": "execute_result"
        }
      ],
      "source": [
        "weather.head(2)"
      ]
    },
    {
      "cell_type": "code",
      "execution_count": null,
      "id": "239cc1b5",
      "metadata": {
        "id": "239cc1b5",
        "outputId": "04b9e892-10d1-456e-bc98-14de91b6985c"
      },
      "outputs": [
        {
          "data": {
            "text/plain": [
              "date               0\n",
              "AVG WIND SPEED     1\n",
              "PRCP               0\n",
              "SNOW               0\n",
              "SNOW DEPTH         0\n",
              "TAVG               0\n",
              "TMAX               0\n",
              "TMIN               0\n",
              "FOG               52\n",
              "dtype: int64"
            ]
          },
          "execution_count": 261,
          "metadata": {},
          "output_type": "execute_result"
        }
      ],
      "source": [
        "#checking for NaN values\n",
        "weather.isnull().sum()"
      ]
    },
    {
      "cell_type": "code",
      "execution_count": null,
      "id": "1869d5c4",
      "metadata": {
        "id": "1869d5c4"
      },
      "outputs": [],
      "source": [
        "#Filling NaN values with zeros to indicate there was no fog on those particular days\n",
        "weather['FOG'] = weather['FOG'].fillna(0)"
      ]
    },
    {
      "cell_type": "code",
      "execution_count": null,
      "id": "bd8ef595",
      "metadata": {
        "id": "bd8ef595"
      },
      "outputs": [],
      "source": [
        "#Filling NaN with average wind speed\n",
        "weather['AVG WIND SPEED'].fillna(weather['AVG WIND SPEED'].mean(), inplace = True)"
      ]
    },
    {
      "cell_type": "code",
      "execution_count": null,
      "id": "75a18c47",
      "metadata": {
        "id": "75a18c47",
        "outputId": "1eb4ae5d-d0ce-46a6-c6f5-88d2bd959b27"
      },
      "outputs": [
        {
          "data": {
            "text/plain": [
              "date              0\n",
              "AVG WIND SPEED    0\n",
              "PRCP              0\n",
              "SNOW              0\n",
              "SNOW DEPTH        0\n",
              "TAVG              0\n",
              "TMAX              0\n",
              "TMIN              0\n",
              "FOG               0\n",
              "dtype: int64"
            ]
          },
          "execution_count": 264,
          "metadata": {},
          "output_type": "execute_result"
        }
      ],
      "source": [
        "#checking for NaN values\n",
        "weather.isnull().sum()"
      ]
    },
    {
      "cell_type": "code",
      "execution_count": null,
      "id": "a2c51427",
      "metadata": {
        "id": "a2c51427",
        "outputId": "93cff563-6c3a-470a-8234-aa394c72a768"
      },
      "outputs": [
        {
          "data": {
            "text/plain": [
              "date               object\n",
              "AVG WIND SPEED    float64\n",
              "PRCP              float64\n",
              "SNOW              float64\n",
              "SNOW DEPTH        float64\n",
              "TAVG              float64\n",
              "TMAX                int64\n",
              "TMIN                int64\n",
              "FOG               float64\n",
              "dtype: object"
            ]
          },
          "execution_count": 265,
          "metadata": {},
          "output_type": "execute_result"
        }
      ],
      "source": [
        "#viewing datatypes of columns\n",
        "weather.dtypes"
      ]
    },
    {
      "cell_type": "code",
      "execution_count": null,
      "id": "d1ae46d8",
      "metadata": {
        "id": "d1ae46d8"
      },
      "outputs": [],
      "source": [
        "#changing Data-Column type into datetime\n",
        "weather['date'] = pd.to_datetime(weather['date'])"
      ]
    },
    {
      "cell_type": "code",
      "execution_count": null,
      "id": "0099eecb",
      "metadata": {
        "id": "0099eecb",
        "outputId": "90ba6b6d-e251-46b8-a323-aa604af9c3f3"
      },
      "outputs": [
        {
          "data": {
            "text/plain": [
              "date              datetime64[ns]\n",
              "AVG WIND SPEED           float64\n",
              "PRCP                     float64\n",
              "SNOW                     float64\n",
              "SNOW DEPTH               float64\n",
              "TAVG                     float64\n",
              "TMAX                       int64\n",
              "TMIN                       int64\n",
              "FOG                      float64\n",
              "dtype: object"
            ]
          },
          "execution_count": 267,
          "metadata": {},
          "output_type": "execute_result"
        }
      ],
      "source": [
        "#viewing datatypes of columns again to see if type changed\n",
        "weather.dtypes"
      ]
    },
    {
      "cell_type": "code",
      "execution_count": null,
      "id": "3db55904",
      "metadata": {
        "scrolled": true,
        "id": "3db55904",
        "outputId": "8a3efda3-bf58-4b64-abf5-750ead9d8067"
      },
      "outputs": [
        {
          "data": {
            "text/html": [
              "<div>\n",
              "<style scoped>\n",
              "    .dataframe tbody tr th:only-of-type {\n",
              "        vertical-align: middle;\n",
              "    }\n",
              "\n",
              "    .dataframe tbody tr th {\n",
              "        vertical-align: top;\n",
              "    }\n",
              "\n",
              "    .dataframe thead th {\n",
              "        text-align: right;\n",
              "    }\n",
              "</style>\n",
              "<table border=\"1\" class=\"dataframe\">\n",
              "  <thead>\n",
              "    <tr style=\"text-align: right;\">\n",
              "      <th></th>\n",
              "      <th>date</th>\n",
              "      <th>AVG WIND SPEED</th>\n",
              "      <th>PRCP</th>\n",
              "      <th>SNOW</th>\n",
              "      <th>SNOW DEPTH</th>\n",
              "      <th>TAVG</th>\n",
              "      <th>TMAX</th>\n",
              "      <th>TMIN</th>\n",
              "      <th>FOG</th>\n",
              "    </tr>\n",
              "  </thead>\n",
              "  <tbody>\n",
              "    <tr>\n",
              "      <th>0</th>\n",
              "      <td>2014-01-01</td>\n",
              "      <td>5.59</td>\n",
              "      <td>0.00</td>\n",
              "      <td>0.0</td>\n",
              "      <td>0.0</td>\n",
              "      <td>28.5</td>\n",
              "      <td>33</td>\n",
              "      <td>24</td>\n",
              "      <td>0.0</td>\n",
              "    </tr>\n",
              "    <tr>\n",
              "      <th>1</th>\n",
              "      <td>2014-01-02</td>\n",
              "      <td>12.30</td>\n",
              "      <td>0.33</td>\n",
              "      <td>3.1</td>\n",
              "      <td>0.0</td>\n",
              "      <td>25.5</td>\n",
              "      <td>33</td>\n",
              "      <td>18</td>\n",
              "      <td>0.0</td>\n",
              "    </tr>\n",
              "    <tr>\n",
              "      <th>2</th>\n",
              "      <td>2014-01-03</td>\n",
              "      <td>10.51</td>\n",
              "      <td>0.29</td>\n",
              "      <td>3.3</td>\n",
              "      <td>5.9</td>\n",
              "      <td>13.5</td>\n",
              "      <td>18</td>\n",
              "      <td>9</td>\n",
              "      <td>1.0</td>\n",
              "    </tr>\n",
              "    <tr>\n",
              "      <th>3</th>\n",
              "      <td>2014-01-04</td>\n",
              "      <td>4.92</td>\n",
              "      <td>0.00</td>\n",
              "      <td>0.0</td>\n",
              "      <td>5.9</td>\n",
              "      <td>18.5</td>\n",
              "      <td>29</td>\n",
              "      <td>8</td>\n",
              "      <td>0.0</td>\n",
              "    </tr>\n",
              "    <tr>\n",
              "      <th>4</th>\n",
              "      <td>2014-01-05</td>\n",
              "      <td>3.80</td>\n",
              "      <td>0.14</td>\n",
              "      <td>0.0</td>\n",
              "      <td>3.9</td>\n",
              "      <td>33.5</td>\n",
              "      <td>40</td>\n",
              "      <td>27</td>\n",
              "      <td>0.0</td>\n",
              "    </tr>\n",
              "  </tbody>\n",
              "</table>\n",
              "</div>"
            ],
            "text/plain": [
              "        date  AVG WIND SPEED  PRCP  SNOW  SNOW DEPTH  TAVG  TMAX  TMIN  FOG\n",
              "0 2014-01-01            5.59  0.00   0.0         0.0  28.5    33    24  0.0\n",
              "1 2014-01-02           12.30  0.33   3.1         0.0  25.5    33    18  0.0\n",
              "2 2014-01-03           10.51  0.29   3.3         5.9  13.5    18     9  1.0\n",
              "3 2014-01-04            4.92  0.00   0.0         5.9  18.5    29     8  0.0\n",
              "4 2014-01-05            3.80  0.14   0.0         3.9  33.5    40    27  0.0"
            ]
          },
          "execution_count": 268,
          "metadata": {},
          "output_type": "execute_result"
        }
      ],
      "source": [
        "#final product\n",
        "weather.head()"
      ]
    },
    {
      "cell_type": "markdown",
      "id": "93cb7acd",
      "metadata": {
        "id": "93cb7acd"
      },
      "source": [
        "## Merging Data"
      ]
    },
    {
      "cell_type": "code",
      "execution_count": null,
      "id": "28ab91bd",
      "metadata": {
        "id": "28ab91bd"
      },
      "outputs": [],
      "source": [
        "#merging data\n",
        "mdf = df.merge(weather, on='date')"
      ]
    },
    {
      "cell_type": "code",
      "execution_count": null,
      "id": "eec38155",
      "metadata": {
        "id": "eec38155",
        "outputId": "eea26ee2-87b4-4808-9339-ff09e1c58f29"
      },
      "outputs": [
        {
          "data": {
            "text/plain": [
              "1269242"
            ]
          },
          "execution_count": 270,
          "metadata": {},
          "output_type": "execute_result"
        }
      ],
      "source": [
        "#check length of dataframe\n",
        "len(mdf)"
      ]
    },
    {
      "cell_type": "code",
      "execution_count": null,
      "id": "cc89909b",
      "metadata": {
        "id": "cc89909b",
        "outputId": "03f2a7d0-23db-4f18-d04d-a0e61dbf28d1"
      },
      "outputs": [
        {
          "data": {
            "text/plain": [
              "tripduration            0\n",
              "date                    0\n",
              "usertype                0\n",
              "birth year              0\n",
              "gender                  0\n",
              "tripduration_minutes    0\n",
              "age                     0\n",
              "AVG WIND SPEED          0\n",
              "PRCP                    0\n",
              "SNOW                    0\n",
              "SNOW DEPTH              0\n",
              "TAVG                    0\n",
              "TMAX                    0\n",
              "TMIN                    0\n",
              "FOG                     0\n",
              "dtype: int64"
            ]
          },
          "execution_count": 271,
          "metadata": {},
          "output_type": "execute_result"
        }
      ],
      "source": [
        "#ckeck for null values\n",
        "mdf.isnull().sum()"
      ]
    },
    {
      "cell_type": "code",
      "execution_count": null,
      "id": "92c9a4b9",
      "metadata": {
        "id": "92c9a4b9",
        "outputId": "1ae608d6-510d-45d1-c518-e1be80e5b361"
      },
      "outputs": [
        {
          "data": {
            "text/html": [
              "<div>\n",
              "<style scoped>\n",
              "    .dataframe tbody tr th:only-of-type {\n",
              "        vertical-align: middle;\n",
              "    }\n",
              "\n",
              "    .dataframe tbody tr th {\n",
              "        vertical-align: top;\n",
              "    }\n",
              "\n",
              "    .dataframe thead th {\n",
              "        text-align: right;\n",
              "    }\n",
              "</style>\n",
              "<table border=\"1\" class=\"dataframe\">\n",
              "  <thead>\n",
              "    <tr style=\"text-align: right;\">\n",
              "      <th></th>\n",
              "      <th>tripduration</th>\n",
              "      <th>date</th>\n",
              "      <th>usertype</th>\n",
              "      <th>birth year</th>\n",
              "      <th>gender</th>\n",
              "      <th>tripduration_minutes</th>\n",
              "      <th>age</th>\n",
              "      <th>AVG WIND SPEED</th>\n",
              "      <th>PRCP</th>\n",
              "      <th>SNOW</th>\n",
              "      <th>SNOW DEPTH</th>\n",
              "      <th>TAVG</th>\n",
              "      <th>TMAX</th>\n",
              "      <th>TMIN</th>\n",
              "      <th>FOG</th>\n",
              "      <th>day</th>\n",
              "    </tr>\n",
              "  </thead>\n",
              "  <tbody>\n",
              "    <tr>\n",
              "      <th>0</th>\n",
              "      <td>471</td>\n",
              "      <td>2014-01-01</td>\n",
              "      <td>Subscriber</td>\n",
              "      <td>1986.0</td>\n",
              "      <td>1</td>\n",
              "      <td>7.850000</td>\n",
              "      <td>28.0</td>\n",
              "      <td>5.59</td>\n",
              "      <td>0.0</td>\n",
              "      <td>0.0</td>\n",
              "      <td>0.0</td>\n",
              "      <td>28.5</td>\n",
              "      <td>33</td>\n",
              "      <td>24</td>\n",
              "      <td>0.0</td>\n",
              "      <td>Wednesday</td>\n",
              "    </tr>\n",
              "    <tr>\n",
              "      <th>1</th>\n",
              "      <td>1494</td>\n",
              "      <td>2014-01-01</td>\n",
              "      <td>Subscriber</td>\n",
              "      <td>1963.0</td>\n",
              "      <td>1</td>\n",
              "      <td>24.900000</td>\n",
              "      <td>51.0</td>\n",
              "      <td>5.59</td>\n",
              "      <td>0.0</td>\n",
              "      <td>0.0</td>\n",
              "      <td>0.0</td>\n",
              "      <td>28.5</td>\n",
              "      <td>33</td>\n",
              "      <td>24</td>\n",
              "      <td>0.0</td>\n",
              "      <td>Wednesday</td>\n",
              "    </tr>\n",
              "    <tr>\n",
              "      <th>2</th>\n",
              "      <td>464</td>\n",
              "      <td>2014-01-01</td>\n",
              "      <td>Subscriber</td>\n",
              "      <td>1991.0</td>\n",
              "      <td>1</td>\n",
              "      <td>7.733333</td>\n",
              "      <td>23.0</td>\n",
              "      <td>5.59</td>\n",
              "      <td>0.0</td>\n",
              "      <td>0.0</td>\n",
              "      <td>0.0</td>\n",
              "      <td>28.5</td>\n",
              "      <td>33</td>\n",
              "      <td>24</td>\n",
              "      <td>0.0</td>\n",
              "      <td>Wednesday</td>\n",
              "    </tr>\n",
              "    <tr>\n",
              "      <th>3</th>\n",
              "      <td>373</td>\n",
              "      <td>2014-01-01</td>\n",
              "      <td>Subscriber</td>\n",
              "      <td>1989.0</td>\n",
              "      <td>1</td>\n",
              "      <td>6.216667</td>\n",
              "      <td>25.0</td>\n",
              "      <td>5.59</td>\n",
              "      <td>0.0</td>\n",
              "      <td>0.0</td>\n",
              "      <td>0.0</td>\n",
              "      <td>28.5</td>\n",
              "      <td>33</td>\n",
              "      <td>24</td>\n",
              "      <td>0.0</td>\n",
              "      <td>Wednesday</td>\n",
              "    </tr>\n",
              "    <tr>\n",
              "      <th>4</th>\n",
              "      <td>660</td>\n",
              "      <td>2014-01-01</td>\n",
              "      <td>Subscriber</td>\n",
              "      <td>1990.0</td>\n",
              "      <td>1</td>\n",
              "      <td>11.000000</td>\n",
              "      <td>24.0</td>\n",
              "      <td>5.59</td>\n",
              "      <td>0.0</td>\n",
              "      <td>0.0</td>\n",
              "      <td>0.0</td>\n",
              "      <td>28.5</td>\n",
              "      <td>33</td>\n",
              "      <td>24</td>\n",
              "      <td>0.0</td>\n",
              "      <td>Wednesday</td>\n",
              "    </tr>\n",
              "  </tbody>\n",
              "</table>\n",
              "</div>"
            ],
            "text/plain": [
              "   tripduration       date    usertype  birth year  gender  \\\n",
              "0           471 2014-01-01  Subscriber      1986.0       1   \n",
              "1          1494 2014-01-01  Subscriber      1963.0       1   \n",
              "2           464 2014-01-01  Subscriber      1991.0       1   \n",
              "3           373 2014-01-01  Subscriber      1989.0       1   \n",
              "4           660 2014-01-01  Subscriber      1990.0       1   \n",
              "\n",
              "   tripduration_minutes   age  AVG WIND SPEED  PRCP  SNOW  SNOW DEPTH  TAVG  \\\n",
              "0              7.850000  28.0            5.59   0.0   0.0         0.0  28.5   \n",
              "1             24.900000  51.0            5.59   0.0   0.0         0.0  28.5   \n",
              "2              7.733333  23.0            5.59   0.0   0.0         0.0  28.5   \n",
              "3              6.216667  25.0            5.59   0.0   0.0         0.0  28.5   \n",
              "4             11.000000  24.0            5.59   0.0   0.0         0.0  28.5   \n",
              "\n",
              "   TMAX  TMIN  FOG        day  \n",
              "0    33    24  0.0  Wednesday  \n",
              "1    33    24  0.0  Wednesday  \n",
              "2    33    24  0.0  Wednesday  \n",
              "3    33    24  0.0  Wednesday  \n",
              "4    33    24  0.0  Wednesday  "
            ]
          },
          "execution_count": 272,
          "metadata": {},
          "output_type": "execute_result"
        }
      ],
      "source": [
        "#adding a column to indicate day of the week based on date\n",
        "mdf['day'] = pd.to_datetime(mdf['date']).dt.day_name()\n",
        "mdf.head()"
      ]
    },
    {
      "cell_type": "markdown",
      "id": "ed59efef",
      "metadata": {
        "id": "ed59efef"
      },
      "source": [
        "## Data Aggregates and/or Analysis"
      ]
    },
    {
      "cell_type": "code",
      "execution_count": null,
      "id": "519073f9",
      "metadata": {
        "scrolled": false,
        "id": "519073f9",
        "outputId": "2125938b-d8bc-4b6a-98fe-1d22f0bb7831"
      },
      "outputs": [
        {
          "data": {
            "text/plain": [
              "<seaborn.axisgrid.FacetGrid at 0x7ffc44fbcfd0>"
            ]
          },
          "execution_count": 273,
          "metadata": {},
          "output_type": "execute_result"
        },
        {
          "data": {
            "image/png": "[encoded data removed]",
            "text/plain": [
              "<Figure size 360x360 with 1 Axes>"
            ]
          },
          "metadata": {
            "needs_background": "light"
          },
          "output_type": "display_data"
        },
        {
          "data": {
            "image/png": "[encoded data removed]",
            "text/plain": [
              "<Figure size 360x360 with 1 Axes>"
            ]
          },
          "metadata": {
            "needs_background": "light"
          },
          "output_type": "display_data"
        }
      ],
      "source": [
        "## Checking for and eliminating outliers (trip duration in minutes)\n",
        "\n",
        "#Checking for outliers\n",
        "sns.catplot(x= 'tripduration_minutes', kind = 'box' , data = mdf)\n",
        "\n",
        "#setting upper and lower limit\n",
        "upper_limit = mdf['tripduration_minutes'].quantile(0.75)\n",
        "lower_limit = mdf['tripduration_minutes'].quantile(0.25)\n",
        "\n",
        "#creating new_df, filtered by values enclosed by upper and lower bounds\n",
        "new_df = pd.DataFrame(mdf[(mdf['tripduration_minutes'] <= upper_limit) & (mdf['tripduration_minutes'] >= lower_limit)])\n",
        "\n",
        "sns.catplot(x= 'tripduration_minutes', kind = 'box' , data = new_df)"
      ]
    },
    {
      "cell_type": "markdown",
      "id": "a701ab87",
      "metadata": {
        "id": "a701ab87"
      },
      "source": [
        "#### Gender Breakdown"
      ]
    },
    {
      "cell_type": "code",
      "execution_count": null,
      "id": "79a768ef",
      "metadata": {
        "id": "79a768ef",
        "outputId": "5f2a192d-3740-4139-b09c-6af0132c5a6e"
      },
      "outputs": [
        {
          "data": {
            "text/plain": [
              "gender\n",
              "0     39440\n",
              "1    459366\n",
              "2    136560\n",
              "Name: gender, dtype: int64"
            ]
          },
          "execution_count": 274,
          "metadata": {},
          "output_type": "execute_result"
        }
      ],
      "source": [
        "#Groupby Gender\n",
        "new_df.groupby('gender')['gender'].count()"
      ]
    },
    {
      "cell_type": "code",
      "execution_count": null,
      "id": "ffc2accb",
      "metadata": {
        "id": "ffc2accb",
        "outputId": "38f1666a-4890-43b4-bd86-077a75c032ea"
      },
      "outputs": [
        {
          "name": "stdout",
          "output_type": "stream",
          "text": [
            "Percentage of Male users: 72.29943056443058\n",
            "Percentage of Female users: 21.493123648416816\n",
            "Percentage of non-gendered users: 6.207445787152602\n"
          ]
        }
      ],
      "source": [
        "#CitiBike users Gender Breakdown (Male)\n",
        "print('Percentage of Male users:',(len(new_df[new_df['gender'] == 1]) / len(new_df['gender'])) * 100)\n",
        "\n",
        "#CitiBike users Gender Breakdown (Female)\n",
        "print('Percentage of Female users:',(len(new_df[new_df['gender'] == 2]) / len(new_df['gender'])) * 100)\n",
        "\n",
        "#CitiBike users Gender Breakdown (Not-Specified)\n",
        "print('Percentage of non-gendered users:',(len(new_df[new_df['gender'] == 0]) / len(new_df['gender'])) * 100)"
      ]
    },
    {
      "cell_type": "code",
      "execution_count": null,
      "id": "eced89d1",
      "metadata": {
        "id": "eced89d1",
        "outputId": "bd233346-68cb-4448-b9df-e1d6758c00b5"
      },
      "outputs": [
        {
          "data": {
            "text/plain": [
              "gender\n",
              "0    11.856604\n",
              "1    10.463337\n",
              "2    10.863585\n",
              "Name: tripduration_minutes, dtype: float64"
            ]
          },
          "execution_count": 276,
          "metadata": {},
          "output_type": "execute_result"
        }
      ],
      "source": [
        "#Average trip duration by gender\n",
        "new_df.groupby('gender')['tripduration_minutes'].mean()"
      ]
    },
    {
      "cell_type": "markdown",
      "id": "91c67f21",
      "metadata": {
        "id": "91c67f21"
      },
      "source": [
        "#### Usertype Breakdown"
      ]
    },
    {
      "cell_type": "code",
      "execution_count": null,
      "id": "e4703572",
      "metadata": {
        "id": "e4703572",
        "outputId": "450e3138-6b2b-481a-b8a1-f1cd5f238834"
      },
      "outputs": [
        {
          "data": {
            "text/plain": [
              "usertype\n",
              "Customer       39375\n",
              "Subscriber    595991\n",
              "Name: usertype, dtype: int64"
            ]
          },
          "execution_count": 277,
          "metadata": {},
          "output_type": "execute_result"
        }
      ],
      "source": [
        "new_df.groupby('usertype')['usertype'].count()"
      ]
    },
    {
      "cell_type": "code",
      "execution_count": null,
      "id": "eb67d922",
      "metadata": {
        "id": "eb67d922",
        "outputId": "22fe79fc-6002-4ad3-db4c-1793971b07a4"
      },
      "outputs": [
        {
          "name": "stdout",
          "output_type": "stream",
          "text": [
            "Percentage of customers: 6.197215463213329\n",
            "Percentage of subscibers: 93.80278453678667\n"
          ]
        }
      ],
      "source": [
        "#usertype percentage (customers)\n",
        "print('Percentage of customers:', (len(new_df[new_df['usertype'] ==  \"Customer\"]) / len(new_df['usertype'])) * 100)\n",
        "\n",
        "#usertype percentage (subscibers)\n",
        "print('Percentage of subscibers:',(len(new_df[new_df['usertype'] ==  \"Subscriber\"]) / len(new_df['usertype'])) * 100)"
      ]
    },
    {
      "cell_type": "code",
      "execution_count": null,
      "id": "dd4770b2",
      "metadata": {
        "id": "dd4770b2",
        "outputId": "8e2ad56e-33c5-44f5-a658-ed456ee0a171"
      },
      "outputs": [
        {
          "data": {
            "text/plain": [
              "usertype\n",
              "Customer      11.859810\n",
              "Subscriber    10.554987\n",
              "Name: tripduration_minutes, dtype: float64"
            ]
          },
          "execution_count": 279,
          "metadata": {},
          "output_type": "execute_result"
        }
      ],
      "source": [
        "#Average trip duration by gender\n",
        "new_df.groupby('usertype')['tripduration_minutes'].mean()"
      ]
    },
    {
      "cell_type": "code",
      "execution_count": null,
      "id": "a936add3",
      "metadata": {
        "id": "a936add3",
        "outputId": "3549cd94-f3f3-40ed-cac4-0eb10e0f166f"
      },
      "outputs": [
        {
          "data": {
            "text/html": [
              "<div>\n",
              "<style scoped>\n",
              "    .dataframe tbody tr th:only-of-type {\n",
              "        vertical-align: middle;\n",
              "    }\n",
              "\n",
              "    .dataframe tbody tr th {\n",
              "        vertical-align: top;\n",
              "    }\n",
              "\n",
              "    .dataframe thead tr th {\n",
              "        text-align: left;\n",
              "    }\n",
              "\n",
              "    .dataframe thead tr:last-of-type th {\n",
              "        text-align: right;\n",
              "    }\n",
              "</style>\n",
              "<table border=\"1\" class=\"dataframe\">\n",
              "  <thead>\n",
              "    <tr>\n",
              "      <th></th>\n",
              "      <th></th>\n",
              "      <th colspan=\"2\" halign=\"left\">tripduration_minutes</th>\n",
              "    </tr>\n",
              "    <tr>\n",
              "      <th></th>\n",
              "      <th></th>\n",
              "      <th>count</th>\n",
              "      <th>mean</th>\n",
              "    </tr>\n",
              "    <tr>\n",
              "      <th>gender</th>\n",
              "      <th>usertype</th>\n",
              "      <th></th>\n",
              "      <th></th>\n",
              "    </tr>\n",
              "  </thead>\n",
              "  <tbody>\n",
              "    <tr>\n",
              "      <th rowspan=\"2\" valign=\"top\">0</th>\n",
              "      <th>Customer</th>\n",
              "      <td>39363</td>\n",
              "      <td>11.859597</td>\n",
              "    </tr>\n",
              "    <tr>\n",
              "      <th>Subscriber</th>\n",
              "      <td>77</td>\n",
              "      <td>10.326190</td>\n",
              "    </tr>\n",
              "    <tr>\n",
              "      <th rowspan=\"2\" valign=\"top\">1</th>\n",
              "      <th>Customer</th>\n",
              "      <td>10</td>\n",
              "      <td>12.646667</td>\n",
              "    </tr>\n",
              "    <tr>\n",
              "      <th>Subscriber</th>\n",
              "      <td>459356</td>\n",
              "      <td>10.463290</td>\n",
              "    </tr>\n",
              "    <tr>\n",
              "      <th rowspan=\"2\" valign=\"top\">2</th>\n",
              "      <th>Customer</th>\n",
              "      <td>2</td>\n",
              "      <td>12.108333</td>\n",
              "    </tr>\n",
              "    <tr>\n",
              "      <th>Subscriber</th>\n",
              "      <td>136558</td>\n",
              "      <td>10.863567</td>\n",
              "    </tr>\n",
              "  </tbody>\n",
              "</table>\n",
              "</div>"
            ],
            "text/plain": [
              "                  tripduration_minutes           \n",
              "                                 count       mean\n",
              "gender usertype                                  \n",
              "0      Customer                  39363  11.859597\n",
              "       Subscriber                   77  10.326190\n",
              "1      Customer                     10  12.646667\n",
              "       Subscriber               459356  10.463290\n",
              "2      Customer                      2  12.108333\n",
              "       Subscriber               136558  10.863567"
            ]
          },
          "execution_count": 280,
          "metadata": {},
          "output_type": "execute_result"
        }
      ],
      "source": [
        "#Grouped by gender and usertype to look at number of users and their average trip duration\n",
        "new_df.groupby(['gender', 'usertype']).agg({'tripduration_minutes': ['count', 'mean']})"
      ]
    },
    {
      "cell_type": "code",
      "execution_count": null,
      "id": "746eed8e",
      "metadata": {
        "id": "746eed8e",
        "outputId": "99bc2567-bbc4-4479-b4b6-fb8fa95fe537"
      },
      "outputs": [
        {
          "data": {
            "text/html": [
              "<div>\n",
              "<style scoped>\n",
              "    .dataframe tbody tr th:only-of-type {\n",
              "        vertical-align: middle;\n",
              "    }\n",
              "\n",
              "    .dataframe tbody tr th {\n",
              "        vertical-align: top;\n",
              "    }\n",
              "\n",
              "    .dataframe thead tr th {\n",
              "        text-align: left;\n",
              "    }\n",
              "\n",
              "    .dataframe thead tr:last-of-type th {\n",
              "        text-align: right;\n",
              "    }\n",
              "</style>\n",
              "<table border=\"1\" class=\"dataframe\">\n",
              "  <thead>\n",
              "    <tr>\n",
              "      <th></th>\n",
              "      <th></th>\n",
              "      <th colspan=\"2\" halign=\"left\">tripduration_minutes</th>\n",
              "    </tr>\n",
              "    <tr>\n",
              "      <th></th>\n",
              "      <th></th>\n",
              "      <th>count</th>\n",
              "      <th>mean</th>\n",
              "    </tr>\n",
              "    <tr>\n",
              "      <th>day</th>\n",
              "      <th>usertype</th>\n",
              "      <th></th>\n",
              "      <th></th>\n",
              "    </tr>\n",
              "  </thead>\n",
              "  <tbody>\n",
              "    <tr>\n",
              "      <th rowspan=\"2\" valign=\"top\">Friday</th>\n",
              "      <th>Customer</th>\n",
              "      <td>4977</td>\n",
              "      <td>11.869513</td>\n",
              "    </tr>\n",
              "    <tr>\n",
              "      <th>Subscriber</th>\n",
              "      <td>82613</td>\n",
              "      <td>10.561256</td>\n",
              "    </tr>\n",
              "    <tr>\n",
              "      <th rowspan=\"2\" valign=\"top\">Monday</th>\n",
              "      <th>Customer</th>\n",
              "      <td>4149</td>\n",
              "      <td>11.792697</td>\n",
              "    </tr>\n",
              "    <tr>\n",
              "      <th>Subscriber</th>\n",
              "      <td>89873</td>\n",
              "      <td>10.494916</td>\n",
              "    </tr>\n",
              "    <tr>\n",
              "      <th rowspan=\"2\" valign=\"top\">Saturday</th>\n",
              "      <th>Customer</th>\n",
              "      <td>8048</td>\n",
              "      <td>12.014567</td>\n",
              "    </tr>\n",
              "    <tr>\n",
              "      <th>Subscriber</th>\n",
              "      <td>50881</td>\n",
              "      <td>10.650082</td>\n",
              "    </tr>\n",
              "    <tr>\n",
              "      <th rowspan=\"2\" valign=\"top\">Sunday</th>\n",
              "      <th>Customer</th>\n",
              "      <td>7403</td>\n",
              "      <td>11.935486</td>\n",
              "    </tr>\n",
              "    <tr>\n",
              "      <th>Subscriber</th>\n",
              "      <td>52778</td>\n",
              "      <td>10.636059</td>\n",
              "    </tr>\n",
              "    <tr>\n",
              "      <th rowspan=\"2\" valign=\"top\">Thursday</th>\n",
              "      <th>Customer</th>\n",
              "      <td>5238</td>\n",
              "      <td>11.788921</td>\n",
              "    </tr>\n",
              "    <tr>\n",
              "      <th>Subscriber</th>\n",
              "      <td>116130</td>\n",
              "      <td>10.557176</td>\n",
              "    </tr>\n",
              "    <tr>\n",
              "      <th rowspan=\"2\" valign=\"top\">Tuesday</th>\n",
              "      <th>Customer</th>\n",
              "      <td>4446</td>\n",
              "      <td>11.736565</td>\n",
              "    </tr>\n",
              "    <tr>\n",
              "      <th>Subscriber</th>\n",
              "      <td>96301</td>\n",
              "      <td>10.549271</td>\n",
              "    </tr>\n",
              "    <tr>\n",
              "      <th rowspan=\"2\" valign=\"top\">Wednesday</th>\n",
              "      <th>Customer</th>\n",
              "      <td>5114</td>\n",
              "      <td>11.731479</td>\n",
              "    </tr>\n",
              "    <tr>\n",
              "      <th>Subscriber</th>\n",
              "      <td>107415</td>\n",
              "      <td>10.518303</td>\n",
              "    </tr>\n",
              "  </tbody>\n",
              "</table>\n",
              "</div>"
            ],
            "text/plain": [
              "                     tripduration_minutes           \n",
              "                                    count       mean\n",
              "day       usertype                                  \n",
              "Friday    Customer                   4977  11.869513\n",
              "          Subscriber                82613  10.561256\n",
              "Monday    Customer                   4149  11.792697\n",
              "          Subscriber                89873  10.494916\n",
              "Saturday  Customer                   8048  12.014567\n",
              "          Subscriber                50881  10.650082\n",
              "Sunday    Customer                   7403  11.935486\n",
              "          Subscriber                52778  10.636059\n",
              "Thursday  Customer                   5238  11.788921\n",
              "          Subscriber               116130  10.557176\n",
              "Tuesday   Customer                   4446  11.736565\n",
              "          Subscriber                96301  10.549271\n",
              "Wednesday Customer                   5114  11.731479\n",
              "          Subscriber               107415  10.518303"
            ]
          },
          "execution_count": 281,
          "metadata": {},
          "output_type": "execute_result"
        }
      ],
      "source": [
        "#Grouped by gender and usertype to look at number of users and their average trip duration\n",
        "new_df.groupby(['day', 'usertype']).agg({'tripduration_minutes': ['count', 'mean']})\n"
      ]
    },
    {
      "cell_type": "markdown",
      "id": "e2fefc35",
      "metadata": {
        "id": "e2fefc35"
      },
      "source": [
        "#### Age Breakdown"
      ]
    },
    {
      "cell_type": "code",
      "execution_count": null,
      "id": "4a3e6c67",
      "metadata": {
        "scrolled": true,
        "id": "4a3e6c67",
        "outputId": "ef68101e-ae70-4f9b-cc2b-08f8a275342f"
      },
      "outputs": [
        {
          "data": {
            "text/plain": [
              "count    635366.000000\n",
              "mean         38.127433\n",
              "std          10.849117\n",
              "min          16.000000\n",
              "25%          30.000000\n",
              "50%          37.000000\n",
              "75%          45.000000\n",
              "max         115.000000\n",
              "Name: age, dtype: float64"
            ]
          },
          "execution_count": 282,
          "metadata": {},
          "output_type": "execute_result"
        }
      ],
      "source": [
        "#Trip Duration Stats\n",
        "new_df['age'].describe()"
      ]
    },
    {
      "cell_type": "code",
      "execution_count": null,
      "id": "2af16392",
      "metadata": {
        "id": "2af16392",
        "outputId": "305f2402-7f94-4710-e6c5-27804b0c969c"
      },
      "outputs": [
        {
          "data": {
            "text/plain": [
              "38.127433453029596"
            ]
          },
          "execution_count": 283,
          "metadata": {},
          "output_type": "execute_result"
        }
      ],
      "source": [
        "#Mean age of CitiBikers\n",
        "new_df['age'].mean()"
      ]
    },
    {
      "cell_type": "code",
      "execution_count": null,
      "id": "f7039246",
      "metadata": {
        "id": "f7039246",
        "outputId": "1c3e0005-eab6-41ef-ad9f-3c301656a3cb"
      },
      "outputs": [
        {
          "data": {
            "text/html": [
              "<div>\n",
              "<style scoped>\n",
              "    .dataframe tbody tr th:only-of-type {\n",
              "        vertical-align: middle;\n",
              "    }\n",
              "\n",
              "    .dataframe tbody tr th {\n",
              "        vertical-align: top;\n",
              "    }\n",
              "\n",
              "    .dataframe thead tr th {\n",
              "        text-align: left;\n",
              "    }\n",
              "\n",
              "    .dataframe thead tr:last-of-type th {\n",
              "        text-align: right;\n",
              "    }\n",
              "</style>\n",
              "<table border=\"1\" class=\"dataframe\">\n",
              "  <thead>\n",
              "    <tr>\n",
              "      <th></th>\n",
              "      <th colspan=\"2\" halign=\"left\">tripduration_minutes</th>\n",
              "    </tr>\n",
              "    <tr>\n",
              "      <th></th>\n",
              "      <th>mean</th>\n",
              "      <th>count</th>\n",
              "    </tr>\n",
              "    <tr>\n",
              "      <th>age</th>\n",
              "      <th></th>\n",
              "      <th></th>\n",
              "    </tr>\n",
              "  </thead>\n",
              "  <tbody>\n",
              "    <tr>\n",
              "      <th>16.0</th>\n",
              "      <td>10.547653</td>\n",
              "      <td>213</td>\n",
              "    </tr>\n",
              "    <tr>\n",
              "      <th>17.0</th>\n",
              "      <td>10.607242</td>\n",
              "      <td>748</td>\n",
              "    </tr>\n",
              "    <tr>\n",
              "      <th>18.0</th>\n",
              "      <td>10.556805</td>\n",
              "      <td>965</td>\n",
              "    </tr>\n",
              "    <tr>\n",
              "      <th>19.0</th>\n",
              "      <td>10.360391</td>\n",
              "      <td>1543</td>\n",
              "    </tr>\n",
              "    <tr>\n",
              "      <th>20.0</th>\n",
              "      <td>10.628817</td>\n",
              "      <td>2314</td>\n",
              "    </tr>\n",
              "    <tr>\n",
              "      <th>...</th>\n",
              "      <td>...</td>\n",
              "      <td>...</td>\n",
              "    </tr>\n",
              "    <tr>\n",
              "      <th>104.0</th>\n",
              "      <td>7.316667</td>\n",
              "      <td>1</td>\n",
              "    </tr>\n",
              "    <tr>\n",
              "      <th>107.0</th>\n",
              "      <td>8.783333</td>\n",
              "      <td>2</td>\n",
              "    </tr>\n",
              "    <tr>\n",
              "      <th>113.0</th>\n",
              "      <td>10.232917</td>\n",
              "      <td>40</td>\n",
              "    </tr>\n",
              "    <tr>\n",
              "      <th>114.0</th>\n",
              "      <td>11.500505</td>\n",
              "      <td>99</td>\n",
              "    </tr>\n",
              "    <tr>\n",
              "      <th>115.0</th>\n",
              "      <td>12.325490</td>\n",
              "      <td>17</td>\n",
              "    </tr>\n",
              "  </tbody>\n",
              "</table>\n",
              "<p>80 rows × 2 columns</p>\n",
              "</div>"
            ],
            "text/plain": [
              "      tripduration_minutes      \n",
              "                      mean count\n",
              "age                             \n",
              "16.0             10.547653   213\n",
              "17.0             10.607242   748\n",
              "18.0             10.556805   965\n",
              "19.0             10.360391  1543\n",
              "20.0             10.628817  2314\n",
              "...                    ...   ...\n",
              "104.0             7.316667     1\n",
              "107.0             8.783333     2\n",
              "113.0            10.232917    40\n",
              "114.0            11.500505    99\n",
              "115.0            12.325490    17\n",
              "\n",
              "[80 rows x 2 columns]"
            ]
          },
          "execution_count": 284,
          "metadata": {},
          "output_type": "execute_result"
        }
      ],
      "source": [
        "#group by age and agg by average tripduration while getting counts of age\n",
        "new_df.groupby('age').agg({'tripduration_minutes': ['mean','count']})"
      ]
    },
    {
      "cell_type": "markdown",
      "id": "5f342927",
      "metadata": {
        "id": "5f342927"
      },
      "source": [
        "# Determine whether there is a correlation between weather and Citi Bike usage"
      ]
    },
    {
      "cell_type": "code",
      "execution_count": null,
      "id": "2f91bc82",
      "metadata": {
        "scrolled": true,
        "id": "2f91bc82",
        "outputId": "1f097e36-af48-414b-c895-d8d35f4a8de2"
      },
      "outputs": [
        {
          "data": {
            "text/html": [
              "<div>\n",
              "<style scoped>\n",
              "    .dataframe tbody tr th:only-of-type {\n",
              "        vertical-align: middle;\n",
              "    }\n",
              "\n",
              "    .dataframe tbody tr th {\n",
              "        vertical-align: top;\n",
              "    }\n",
              "\n",
              "    .dataframe thead tr th {\n",
              "        text-align: left;\n",
              "    }\n",
              "\n",
              "    .dataframe thead tr:last-of-type th {\n",
              "        text-align: right;\n",
              "    }\n",
              "</style>\n",
              "<table border=\"1\" class=\"dataframe\">\n",
              "  <thead>\n",
              "    <tr>\n",
              "      <th></th>\n",
              "      <th colspan=\"2\" halign=\"left\">tripduration_minutes</th>\n",
              "    </tr>\n",
              "    <tr>\n",
              "      <th></th>\n",
              "      <th>count</th>\n",
              "      <th>mean</th>\n",
              "    </tr>\n",
              "    <tr>\n",
              "      <th>SNOW DEPTH</th>\n",
              "      <th></th>\n",
              "      <th></th>\n",
              "    </tr>\n",
              "  </thead>\n",
              "  <tbody>\n",
              "    <tr>\n",
              "      <th>0.0</th>\n",
              "      <td>582736</td>\n",
              "      <td>10.672355</td>\n",
              "    </tr>\n",
              "    <tr>\n",
              "      <th>1.0</th>\n",
              "      <td>6469</td>\n",
              "      <td>10.243160</td>\n",
              "    </tr>\n",
              "    <tr>\n",
              "      <th>1.2</th>\n",
              "      <td>17937</td>\n",
              "      <td>10.207457</td>\n",
              "    </tr>\n",
              "    <tr>\n",
              "      <th>2.0</th>\n",
              "      <td>5351</td>\n",
              "      <td>10.156419</td>\n",
              "    </tr>\n",
              "    <tr>\n",
              "      <th>3.1</th>\n",
              "      <td>6993</td>\n",
              "      <td>10.260637</td>\n",
              "    </tr>\n",
              "    <tr>\n",
              "      <th>3.9</th>\n",
              "      <td>6350</td>\n",
              "      <td>10.132373</td>\n",
              "    </tr>\n",
              "    <tr>\n",
              "      <th>5.9</th>\n",
              "      <td>5286</td>\n",
              "      <td>10.327560</td>\n",
              "    </tr>\n",
              "    <tr>\n",
              "      <th>7.1</th>\n",
              "      <td>2872</td>\n",
              "      <td>10.321269</td>\n",
              "    </tr>\n",
              "    <tr>\n",
              "      <th>11.0</th>\n",
              "      <td>1372</td>\n",
              "      <td>10.541521</td>\n",
              "    </tr>\n",
              "  </tbody>\n",
              "</table>\n",
              "</div>"
            ],
            "text/plain": [
              "           tripduration_minutes           \n",
              "                          count       mean\n",
              "SNOW DEPTH                                \n",
              "0.0                      582736  10.672355\n",
              "1.0                        6469  10.243160\n",
              "1.2                       17937  10.207457\n",
              "2.0                        5351  10.156419\n",
              "3.1                        6993  10.260637\n",
              "3.9                        6350  10.132373\n",
              "5.9                        5286  10.327560\n",
              "7.1                        2872  10.321269\n",
              "11.0                       1372  10.541521"
            ]
          },
          "execution_count": 285,
          "metadata": {},
          "output_type": "execute_result"
        }
      ],
      "source": [
        "#Trip Duration and count of riders grouped by snow depth\n",
        "new_df.groupby('SNOW DEPTH').agg({'tripduration_minutes': ['count', 'mean']})"
      ]
    },
    {
      "cell_type": "code",
      "execution_count": null,
      "id": "33f525ab",
      "metadata": {
        "scrolled": false,
        "id": "33f525ab",
        "outputId": "4fa52ce5-f845-47f6-e2e8-e75b9fabbe6d"
      },
      "outputs": [
        {
          "data": {
            "text/html": [
              "<div>\n",
              "<style scoped>\n",
              "    .dataframe tbody tr th:only-of-type {\n",
              "        vertical-align: middle;\n",
              "    }\n",
              "\n",
              "    .dataframe tbody tr th {\n",
              "        vertical-align: top;\n",
              "    }\n",
              "\n",
              "    .dataframe thead tr th {\n",
              "        text-align: left;\n",
              "    }\n",
              "\n",
              "    .dataframe thead tr:last-of-type th {\n",
              "        text-align: right;\n",
              "    }\n",
              "</style>\n",
              "<table border=\"1\" class=\"dataframe\">\n",
              "  <thead>\n",
              "    <tr>\n",
              "      <th></th>\n",
              "      <th colspan=\"2\" halign=\"left\">tripduration_minutes</th>\n",
              "    </tr>\n",
              "    <tr>\n",
              "      <th></th>\n",
              "      <th>count</th>\n",
              "      <th>mean</th>\n",
              "    </tr>\n",
              "    <tr>\n",
              "      <th>PRCP</th>\n",
              "      <th></th>\n",
              "      <th></th>\n",
              "    </tr>\n",
              "  </thead>\n",
              "  <tbody>\n",
              "    <tr>\n",
              "      <th>0.00</th>\n",
              "      <td>418447</td>\n",
              "      <td>10.658387</td>\n",
              "    </tr>\n",
              "    <tr>\n",
              "      <th>0.02</th>\n",
              "      <td>13422</td>\n",
              "      <td>10.873059</td>\n",
              "    </tr>\n",
              "    <tr>\n",
              "      <th>0.03</th>\n",
              "      <td>11457</td>\n",
              "      <td>10.851229</td>\n",
              "    </tr>\n",
              "    <tr>\n",
              "      <th>0.04</th>\n",
              "      <td>23663</td>\n",
              "      <td>10.533160</td>\n",
              "    </tr>\n",
              "    <tr>\n",
              "      <th>0.05</th>\n",
              "      <td>5962</td>\n",
              "      <td>10.428726</td>\n",
              "    </tr>\n",
              "    <tr>\n",
              "      <th>0.07</th>\n",
              "      <td>4708</td>\n",
              "      <td>10.371194</td>\n",
              "    </tr>\n",
              "    <tr>\n",
              "      <th>0.09</th>\n",
              "      <td>17995</td>\n",
              "      <td>10.690323</td>\n",
              "    </tr>\n",
              "    <tr>\n",
              "      <th>0.11</th>\n",
              "      <td>5369</td>\n",
              "      <td>10.287673</td>\n",
              "    </tr>\n",
              "    <tr>\n",
              "      <th>0.14</th>\n",
              "      <td>7457</td>\n",
              "      <td>10.633724</td>\n",
              "    </tr>\n",
              "    <tr>\n",
              "      <th>0.19</th>\n",
              "      <td>34784</td>\n",
              "      <td>10.652433</td>\n",
              "    </tr>\n",
              "    <tr>\n",
              "      <th>0.29</th>\n",
              "      <td>628</td>\n",
              "      <td>10.851752</td>\n",
              "    </tr>\n",
              "    <tr>\n",
              "      <th>0.33</th>\n",
              "      <td>4462</td>\n",
              "      <td>10.241121</td>\n",
              "    </tr>\n",
              "    <tr>\n",
              "      <th>0.36</th>\n",
              "      <td>4982</td>\n",
              "      <td>10.156497</td>\n",
              "    </tr>\n",
              "    <tr>\n",
              "      <th>0.38</th>\n",
              "      <td>5318</td>\n",
              "      <td>10.218231</td>\n",
              "    </tr>\n",
              "    <tr>\n",
              "      <th>0.39</th>\n",
              "      <td>16946</td>\n",
              "      <td>10.709502</td>\n",
              "    </tr>\n",
              "    <tr>\n",
              "      <th>0.46</th>\n",
              "      <td>15590</td>\n",
              "      <td>10.490232</td>\n",
              "    </tr>\n",
              "    <tr>\n",
              "      <th>0.50</th>\n",
              "      <td>4043</td>\n",
              "      <td>10.284896</td>\n",
              "    </tr>\n",
              "    <tr>\n",
              "      <th>0.96</th>\n",
              "      <td>13770</td>\n",
              "      <td>10.523707</td>\n",
              "    </tr>\n",
              "    <tr>\n",
              "      <th>1.30</th>\n",
              "      <td>12242</td>\n",
              "      <td>10.573576</td>\n",
              "    </tr>\n",
              "    <tr>\n",
              "      <th>1.78</th>\n",
              "      <td>14121</td>\n",
              "      <td>10.716510</td>\n",
              "    </tr>\n",
              "  </tbody>\n",
              "</table>\n",
              "</div>"
            ],
            "text/plain": [
              "     tripduration_minutes           \n",
              "                    count       mean\n",
              "PRCP                                \n",
              "0.00               418447  10.658387\n",
              "0.02                13422  10.873059\n",
              "0.03                11457  10.851229\n",
              "0.04                23663  10.533160\n",
              "0.05                 5962  10.428726\n",
              "0.07                 4708  10.371194\n",
              "0.09                17995  10.690323\n",
              "0.11                 5369  10.287673\n",
              "0.14                 7457  10.633724\n",
              "0.19                34784  10.652433\n",
              "0.29                  628  10.851752\n",
              "0.33                 4462  10.241121\n",
              "0.36                 4982  10.156497\n",
              "0.38                 5318  10.218231\n",
              "0.39                16946  10.709502\n",
              "0.46                15590  10.490232\n",
              "0.50                 4043  10.284896\n",
              "0.96                13770  10.523707\n",
              "1.30                12242  10.573576\n",
              "1.78                14121  10.716510"
            ]
          },
          "execution_count": 286,
          "metadata": {},
          "output_type": "execute_result"
        }
      ],
      "source": [
        "#Trip Duration and count of riders grouped by inches of rainfall\n",
        "new_df.groupby('PRCP').agg({'tripduration_minutes': ['count', 'mean']})"
      ]
    },
    {
      "cell_type": "code",
      "execution_count": null,
      "id": "f63f54a7",
      "metadata": {
        "id": "f63f54a7",
        "outputId": "3f58964f-7f8d-459a-8114-1cee833e4514"
      },
      "outputs": [
        {
          "data": {
            "text/html": [
              "<div>\n",
              "<style scoped>\n",
              "    .dataframe tbody tr th:only-of-type {\n",
              "        vertical-align: middle;\n",
              "    }\n",
              "\n",
              "    .dataframe tbody tr th {\n",
              "        vertical-align: top;\n",
              "    }\n",
              "\n",
              "    .dataframe thead tr th {\n",
              "        text-align: left;\n",
              "    }\n",
              "\n",
              "    .dataframe thead tr:last-of-type th {\n",
              "        text-align: right;\n",
              "    }\n",
              "</style>\n",
              "<table border=\"1\" class=\"dataframe\">\n",
              "  <thead>\n",
              "    <tr>\n",
              "      <th></th>\n",
              "      <th colspan=\"2\" halign=\"left\">tripduration_minutes</th>\n",
              "    </tr>\n",
              "    <tr>\n",
              "      <th></th>\n",
              "      <th>count</th>\n",
              "      <th>mean</th>\n",
              "    </tr>\n",
              "    <tr>\n",
              "      <th>FOG</th>\n",
              "      <th></th>\n",
              "      <th></th>\n",
              "    </tr>\n",
              "  </thead>\n",
              "  <tbody>\n",
              "    <tr>\n",
              "      <th>0.0</th>\n",
              "      <td>532396</td>\n",
              "      <td>10.632740</td>\n",
              "    </tr>\n",
              "    <tr>\n",
              "      <th>1.0</th>\n",
              "      <td>102970</td>\n",
              "      <td>10.651927</td>\n",
              "    </tr>\n",
              "  </tbody>\n",
              "</table>\n",
              "</div>"
            ],
            "text/plain": [
              "    tripduration_minutes           \n",
              "                   count       mean\n",
              "FOG                                \n",
              "0.0               532396  10.632740\n",
              "1.0               102970  10.651927"
            ]
          },
          "execution_count": 287,
          "metadata": {},
          "output_type": "execute_result"
        }
      ],
      "source": [
        "#Trip Duration and count of riders grouped by whether or not there is fog\n",
        "new_df.groupby('FOG').agg({'tripduration_minutes': ['count', 'mean']})"
      ]
    },
    {
      "cell_type": "code",
      "execution_count": null,
      "id": "bf17431a",
      "metadata": {
        "id": "bf17431a",
        "outputId": "d7288b9e-9d76-4e31-aedf-41311240b8f8"
      },
      "outputs": [
        {
          "data": {
            "text/plain": [
              "TAVG\n",
              "75.0    75203\n",
              "78.0    52367\n",
              "74.0    38115\n",
              "78.5    36486\n",
              "81.0    32972\n",
              "Name: TAVG, dtype: int64"
            ]
          },
          "execution_count": 288,
          "metadata": {},
          "output_type": "execute_result"
        }
      ],
      "source": [
        "#Which average temperatures generate the most amount of riders?\n",
        "temp = new_df.groupby('TAVG')['TAVG'].count()\n",
        "temp.nlargest(5)  "
      ]
    },
    {
      "cell_type": "code",
      "execution_count": null,
      "id": "ebfcef33",
      "metadata": {
        "id": "ebfcef33",
        "outputId": "5f3abd4c-cbee-41ff-e1e2-f7a4298c77d8"
      },
      "outputs": [
        {
          "data": {
            "text/plain": [
              "TAVG\n",
              "11.0    1372\n",
              "21.0    2051\n",
              "23.5    2286\n",
              "28.5    2859\n",
              "11.5    3199\n",
              "Name: TAVG, dtype: int64"
            ]
          },
          "execution_count": 289,
          "metadata": {},
          "output_type": "execute_result"
        }
      ],
      "source": [
        "#Which average temperatures generate the least amount of riders?\n",
        "temp = new_df.groupby('TAVG')['TAVG'].count()\n",
        "temp.nsmallest(5)  "
      ]
    },
    {
      "cell_type": "markdown",
      "id": "bf056af7",
      "metadata": {
        "id": "bf056af7"
      },
      "source": [
        "# Viauslizations"
      ]
    },
    {
      "cell_type": "code",
      "execution_count": null,
      "id": "a186d5c9",
      "metadata": {
        "id": "a186d5c9",
        "outputId": "b9156b94-96cf-4994-ef2d-6a841787d262"
      },
      "outputs": [
        {
          "data": {
            "text/plain": [
              "Text(0.5, 6.79999999999999, 'Gender')"
            ]
          },
          "execution_count": 290,
          "metadata": {},
          "output_type": "execute_result"
        },
        {
          "data": {
            "image/png": "[encoded data removed]",
            "text/plain": [
              "<Figure size 360x360 with 1 Axes>"
            ]
          },
          "metadata": {
            "needs_background": "light"
          },
          "output_type": "display_data"
        }
      ],
      "source": [
        "#Dustribution of Customers based on gender\n",
        "sns.catplot(x = 'gender', kind = 'count', data = new_df, palette=\"crest\")\n",
        "\n",
        "plt.title(\"Gender Distribution of Riders\")\n",
        "plt.xlabel(\"Gender\")"
      ]
    },
    {
      "cell_type": "code",
      "execution_count": null,
      "id": "92c86b3d",
      "metadata": {
        "scrolled": false,
        "id": "92c86b3d",
        "outputId": "de95f213-13d7-430f-d9c0-4aea1636b306"
      },
      "outputs": [
        {
          "data": {
            "text/plain": [
              "Text(0.5, 6.79999999999999, 'User Type')"
            ]
          },
          "execution_count": 291,
          "metadata": {},
          "output_type": "execute_result"
        },
        {
          "data": {
            "image/png": "[encoded data removed]",
            "text/plain": [
              "<Figure size 360x360 with 1 Axes>"
            ]
          },
          "metadata": {
            "needs_background": "light"
          },
          "output_type": "display_data"
        }
      ],
      "source": [
        "#Dustribution of Customers based on usertype\n",
        "sns.catplot(x = 'usertype', kind = 'count', data = new_df, palette=\"crest\")\n",
        "\n",
        "plt.xlabel(\"User Type\")"
      ]
    },
    {
      "cell_type": "code",
      "execution_count": null,
      "id": "838fc834",
      "metadata": {
        "id": "838fc834",
        "outputId": "4d5d53da-9dde-4167-a9c8-762e995d0637"
      },
      "outputs": [
        {
          "data": {
            "text/plain": [
              "Text(0.5, 6.79999999999999, 'User Type')"
            ]
          },
          "execution_count": 292,
          "metadata": {},
          "output_type": "execute_result"
        },
        {
          "data": {
            "image/png": "[encoded data removed]",
            "text/plain": [
              "<Figure size 360x360 with 1 Axes>"
            ]
          },
          "metadata": {
            "needs_background": "light"
          },
          "output_type": "display_data"
        }
      ],
      "source": [
        "#Dustribution of Customers based on usertype\n",
        "sns.catplot(x = 'usertype', y = 'tripduration_minutes', kind = 'box', data = new_df, palette=\"crest\")\n",
        "\n",
        "plt.title(\"Average Ride Time by User Type\")\n",
        "plt.ylabel(\"Average Ride Time (minutes)\")\n",
        "plt.xlabel(\"User Type\")"
      ]
    },
    {
      "cell_type": "code",
      "execution_count": null,
      "id": "aa1475bd",
      "metadata": {
        "id": "aa1475bd",
        "outputId": "88c2d51f-befa-423c-8484-65594e16eeef"
      },
      "outputs": [
        {
          "data": {
            "text/plain": [
              "Text(0.5, 0, 'Day of the Week')"
            ]
          },
          "execution_count": 293,
          "metadata": {},
          "output_type": "execute_result"
        },
        {
          "data": {
            "image/png": "[encoded data removed]",
            "text/plain": [
              "<Figure size 432x288 with 1 Axes>"
            ]
          },
          "metadata": {
            "needs_background": "light"
          },
          "output_type": "display_data"
        }
      ],
      "source": [
        "#Rides By Day of the Week, hue = user type\n",
        "sns.countplot(x=\"day\", data=new_df, hue = 'usertype', palette=\"crest\")\n",
        "plt.xticks(rotation=45)\n",
        "\n",
        "plt.title(\"Rides By Day of the Week\")\n",
        "plt.ylabel(\"Rides\")\n",
        "plt.xlabel(\"Day of the Week\")"
      ]
    },
    {
      "cell_type": "code",
      "execution_count": null,
      "id": "d4527951",
      "metadata": {
        "id": "d4527951",
        "outputId": "17f6825b-3c15-424a-9157-4e9fe708e8d4"
      },
      "outputs": [
        {
          "data": {
            "text/plain": [
              "Text(0.5, 0, 'Day of the Week')"
            ]
          },
          "execution_count": 294,
          "metadata": {},
          "output_type": "execute_result"
        },
        {
          "data": {
            "image/png": "[encoded data removed]",
            "text/plain": [
              "<Figure size 432x288 with 1 Axes>"
            ]
          },
          "metadata": {
            "needs_background": "light"
          },
          "output_type": "display_data"
        }
      ],
      "source": [
        "#Average Ride Time by Day of the Week\n",
        "days = new_df.groupby('day')['tripduration_minutes'].mean()\n",
        "\n",
        "x = list(days.index)\n",
        "y = list(days.values)\n",
        "barlist = plt.bar(x, y, color = 'powderblue')\n",
        "plt.xticks(rotation=45)\n",
        "barlist[2].set_color('teal')\n",
        "barlist[3].set_color('teal')\n",
        "\n",
        "plt.title(\"Average Ride Time by Day\")\n",
        "plt.ylabel(\"Average Ride Time (minutes)\")\n",
        "plt.xlabel(\"Day of the Week\")"
      ]
    },
    {
      "cell_type": "code",
      "execution_count": null,
      "id": "889b7fcd",
      "metadata": {
        "id": "889b7fcd",
        "outputId": "b68224a4-8ec1-4eca-8ee1-fc8006500e18"
      },
      "outputs": [
        {
          "data": {
            "text/plain": [
              "Text(0.5, 6.79999999999999, 'Inches of Rain')"
            ]
          },
          "execution_count": 295,
          "metadata": {},
          "output_type": "execute_result"
        },
        {
          "data": {
            "image/png": "[encoded data removed]",
            "text/plain": [
              "<Figure size 360x360 with 1 Axes>"
            ]
          },
          "metadata": {
            "needs_background": "light"
          },
          "output_type": "display_data"
        }
      ],
      "source": [
        "#Impact of Rainfall on Rides\n",
        "chart= sns.catplot(x = 'PRCP', kind = 'count', data = new_df, palette=\"crest\")\n",
        "chart.set_xticklabels(rotation=70)\n",
        "\n",
        "plt.title(\"Impact of Rainfall on Rides\")\n",
        "plt.ylabel(\"Rides\")\n",
        "plt.xlabel(\"Inches of Rain\")"
      ]
    },
    {
      "cell_type": "code",
      "execution_count": null,
      "id": "409a717c",
      "metadata": {
        "id": "409a717c",
        "outputId": "a2863625-9e18-4f87-d56a-003489613165"
      },
      "outputs": [
        {
          "data": {
            "text/plain": [
              "Text(0.5, 6.79999999999999, 'Inches of Rain')"
            ]
          },
          "execution_count": 296,
          "metadata": {},
          "output_type": "execute_result"
        },
        {
          "data": {
            "image/png": "[encoded data removed]",
            "text/plain": [
              "<Figure size 360x360 with 1 Axes>"
            ]
          },
          "metadata": {
            "needs_background": "light"
          },
          "output_type": "display_data"
        }
      ],
      "source": [
        "#Impact of Rainfall on Trip Duration\n",
        "chart= sns.catplot(x = 'PRCP',y='tripduration_minutes', kind = 'bar', data = new_df, palette=\"crest\")\n",
        "chart.set_xticklabels(rotation=70)\n",
        "\n",
        "plt.title(\"Impact of Rainfall on Trip Duration\")\n",
        "plt.ylabel(\"Ride Time (Minutes)\")\n",
        "plt.xlabel(\"Inches of Rain\")"
      ]
    },
    {
      "cell_type": "code",
      "execution_count": null,
      "id": "cae40b38",
      "metadata": {
        "id": "cae40b38",
        "outputId": "b6b766c8-a640-4b26-f19d-f62a18a1e9c7"
      },
      "outputs": [
        {
          "data": {
            "text/plain": [
              "Text(0.5, 6.79999999999999, 'Presence of Fog')"
            ]
          },
          "execution_count": 297,
          "metadata": {},
          "output_type": "execute_result"
        },
        {
          "data": {
            "image/png": "[encoded data removed]",
            "text/plain": [
              "<Figure size 360x360 with 1 Axes>"
            ]
          },
          "metadata": {
            "needs_background": "light"
          },
          "output_type": "display_data"
        }
      ],
      "source": [
        "#Impact of Fog on number of Rides\n",
        "chart= sns.catplot(x = 'FOG', kind = 'count', data = mdf, palette=\"crest\")\n",
        "chart.set_xticklabels(rotation=50)\n",
        "\n",
        "plt.xticks(rotation=45)\n",
        "\n",
        "plt.title(\"Impact of Fog on number of Rides\")\n",
        "plt.ylabel(\"Rides\")\n",
        "plt.xlabel(\"Presence of Fog\")"
      ]
    },
    {
      "cell_type": "code",
      "execution_count": null,
      "id": "ed168cc2",
      "metadata": {
        "scrolled": false,
        "id": "ed168cc2",
        "outputId": "47825a1f-624e-457b-8773-b9a4ee5939a0"
      },
      "outputs": [
        {
          "data": {
            "text/plain": [
              "Text(0.5, 6.79999999999999, 'Inches of Snow')"
            ]
          },
          "execution_count": 298,
          "metadata": {},
          "output_type": "execute_result"
        },
        {
          "data": {
            "image/png": "[encoded data removed]",
            "text/plain": [
              "<Figure size 360x360 with 1 Axes>"
            ]
          },
          "metadata": {
            "needs_background": "light"
          },
          "output_type": "display_data"
        }
      ],
      "source": [
        "#Number of rides based on snow depth\n",
        "sns.catplot(x = 'SNOW DEPTH', kind = 'count', data = new_df, palette=\"crest\")\n",
        "\n",
        "plt.title(\"Impact of Snowfall on number of Rides\")\n",
        "plt.ylabel(\"Rides\")\n",
        "plt.xlabel(\"Inches of Snow\")"
      ]
    },
    {
      "cell_type": "code",
      "execution_count": null,
      "id": "e0d1463c",
      "metadata": {
        "scrolled": true,
        "id": "e0d1463c",
        "outputId": "407e60c1-0902-4252-c656-111ad27852a9"
      },
      "outputs": [
        {
          "data": {
            "text/plain": [
              "Text(0.5, 0, 'Inches of Snow')"
            ]
          },
          "execution_count": 299,
          "metadata": {},
          "output_type": "execute_result"
        },
        {
          "data": {
            "image/png": "[encoded data removed]",
            "text/plain": [
              "<Figure size 432x288 with 1 Axes>"
            ]
          },
          "metadata": {
            "needs_background": "light"
          },
          "output_type": "display_data"
        }
      ],
      "source": [
        "#Average trip duration based on snow depth\n",
        "sns.barplot(x ='SNOW DEPTH',y='tripduration_minutes' , data = new_df, palette=\"crest\")\n",
        "\n",
        "plt.title(\"Impact of Snowfall on Trip Duration\")\n",
        "plt.ylabel(\"Average Trip Duration\")\n",
        "plt.xlabel(\"Inches of Snow\")"
      ]
    },
    {
      "cell_type": "code",
      "execution_count": null,
      "id": "285e2f7b",
      "metadata": {
        "scrolled": false,
        "id": "285e2f7b",
        "outputId": "60bfb766-eb6f-422c-de34-abae9c3df6c5"
      },
      "outputs": [
        {
          "data": {
            "text/plain": [
              "<seaborn.axisgrid.FacetGrid at 0x7ffb930e01c0>"
            ]
          },
          "execution_count": 300,
          "metadata": {},
          "output_type": "execute_result"
        },
        {
          "data": {
            "image/png": "[encoded data removed]",
            "text/plain": [
              "<Figure size 449.125x360 with 1 Axes>"
            ]
          },
          "metadata": {
            "needs_background": "light"
          },
          "output_type": "display_data"
        },
        {
          "data": {
            "image/png": "[encoded data removed]",
            "text/plain": [
              "<Figure size 449.125x360 with 1 Axes>"
            ]
          },
          "metadata": {
            "needs_background": "light"
          },
          "output_type": "display_data"
        }
      ],
      "source": [
        "#Usertype and ride tendency based on snow depth\n",
        "sns.catplot(x = 'SNOW DEPTH', kind = 'count', data = new_df, hue = 'usertype', palette=\"crest\")\n",
        "\n",
        "#set condition to see more detail\n",
        "var = new_df[new_df['SNOW DEPTH'] > 1.2]\n",
        "sns.catplot(x = 'SNOW DEPTH', kind = 'count', data = var, hue = 'usertype', palette=\"crest\")"
      ]
    },
    {
      "cell_type": "code",
      "execution_count": null,
      "id": "2f391abe",
      "metadata": {
        "id": "2f391abe",
        "outputId": "4b90c1f5-43dc-4504-ea93-f09cff37787f"
      },
      "outputs": [
        {
          "data": {
            "text/plain": [
              "Text(0.5, 20.80000000000002, 'Inches of Rain')"
            ]
          },
          "execution_count": 301,
          "metadata": {},
          "output_type": "execute_result"
        },
        {
          "data": {
            "image/png": "[encoded data removed]",
            "text/plain": [
              "<Figure size 449.125x360 with 1 Axes>"
            ]
          },
          "metadata": {
            "needs_background": "light"
          },
          "output_type": "display_data"
        },
        {
          "data": {
            "image/png": "[encoded data removed]",
            "text/plain": [
              "<Figure size 449.125x360 with 1 Axes>"
            ]
          },
          "metadata": {
            "needs_background": "light"
          },
          "output_type": "display_data"
        }
      ],
      "source": [
        "#Usertype and ride tendency based on rainfall\n",
        "plot = sns.catplot(x = 'PRCP', kind = 'count', data = new_df, hue = 'usertype', palette=\"crest\")\n",
        "plot.set_xticklabels(rotation=70)\n",
        "plt.title(\"Impact of Rainfall on number of Rides\")\n",
        "plt.xlabel(\"Inches of Rain\")\n",
        "\n",
        "#set condition to see more detail\n",
        "var = new_df[new_df['PRCP'] > 0]\n",
        "plot2 = sns.catplot(x = 'PRCP', kind = 'count', data = var, hue = 'usertype', palette=\"crest\")\n",
        "plot2.set_xticklabels(rotation=70)\n",
        "plt.xlabel(\"Inches of Rain\")"
      ]
    },
    {
      "cell_type": "code",
      "execution_count": null,
      "id": "c0eb8b42",
      "metadata": {
        "scrolled": false,
        "id": "c0eb8b42",
        "outputId": "73d6cb18-d520-40ca-dfba-b08c9639667d"
      },
      "outputs": [
        {
          "data": {
            "image/png": "[encoded data removed]",
            "text/plain": [
              "<Figure size 1080x576 with 1 Axes>"
            ]
          },
          "metadata": {
            "needs_background": "light"
          },
          "output_type": "display_data"
        }
      ],
      "source": [
        "plt.figure(figsize=(15,8))\n",
        "sns.countplot(x=\"TAVG\", data=new_df, palette=\"crest\")\n",
        "plt.xticks(rotation=90)\n",
        "\n",
        "plt.title(\"Impact of Temperature on number of Rides\", fontsize=14)\n",
        "plt.ylabel('Number of Riders', fontsize=14);\n",
        "plt.xlabel('Average Daily Temperature', fontsize=14);\n",
        "plt.tick_params(axis='both', which='major', labelsize=12)"
      ]
    }
  ],
  "metadata": {
    "kernelspec": {
      "display_name": "Python 3 (ipykernel)",
      "language": "python",
      "name": "python3"
    },
    "language_info": {
      "codemirror_mode": {
        "name": "ipython",
        "version": 3
      },
      "file_extension": ".py",
      "mimetype": "text/x-python",
      "name": "python",
      "nbconvert_exporter": "python",
      "pygments_lexer": "ipython3",
      "version": "3.9.7"
    },
    "colab": {
      "name": "Project Code.ipynb",
      "provenance": []
    }
  },
  "nbformat": 4,
  "nbformat_minor": 5
}